{
  "nbformat": 4,
  "nbformat_minor": 0,
  "metadata": {
    "colab": {
      "name": "index.ipynb",
      "provenance": [],
      "authorship_tag": "ABX9TyMiPimePfJ4i9X1b1hXb7X6",
      "include_colab_link": true
    },
    "kernelspec": {
      "name": "python3",
      "display_name": "Python 3"
    },
    "language_info": {
      "name": "python"
    }
  },
  "cells": [
    {
      "cell_type": "markdown",
      "metadata": {
        "id": "view-in-github",
        "colab_type": "text"
      },
      "source": [
        "<a href=\"https://colab.research.google.com/github/RobInLabUJI/MindstormsColab/blob/main/ca/nxt/index.ipynb\" target=\"_parent\"><img src=\"https://colab.research.google.com/assets/colab-badge.svg\" alt=\"Open In Colab\"/></a>"
      ]
    },
    {
      "cell_type": "markdown",
      "source": [
        "[<img src=\"https://github.com/RobInLabUJI/MindstormsColab/raw/main/img/nxt/brick.jpg\" align=\"right\">](https://en.wikipedia.org/wiki/Lego_Mindstorms_NXT#NXT_Intelligent_Brick)\n",
        "# Mindstorms NXT\n",
        "Lego Mindstorms NXT és la segona generació de kits de robòtica de Lego. El controlador NXT permet connectar fins a quatre sensors i tres motors. Té una pantalla de 100 x 60 píxels, un altaveu, i quatre botons. Porta un microprocessador de 32 bits amb 256KB de memòria FLASH i 64KB de RAM, i es pot communicar per USB i Bluetooth amb l'ordinador.\n",
        "\n",
        "En primer lloc **enceneu el controlador amb el botó taronja**. Emetrà un so i apareixerà texte i unes icones a la pantalla. Si no és així, indiqueu-ho al professor de l'aula."
      ],
      "metadata": {
        "id": "bRArssop_UMW"
      }
    },
    {
      "cell_type": "markdown",
      "source": [
        "Ara heu de configurar el vostre robot.\n",
        "\n",
        "Per a això, indiqueu al codi de baix el número del vostre robot, i executeu-lo pulsant simultàniament les tecles `Majúscules + Enter`."
      ],
      "metadata": {
        "id": "DA-Hs4L2_7gH"
      }
    },
    {
      "cell_type": "code",
      "source": [
        "from nxtcolab.functions import configure\n",
        "robot = 7         # canvieu-lo pel número del vostre robot\n",
        "configure(robot)  # executeu pulsant simultàniament Majúscules + Enter"
      ],
      "metadata": {
        "id": "QOhcsjHM_4gp"
      },
      "execution_count": null,
      "outputs": []
    },
    {
      "cell_type": "code",
      "source": [
        ""
      ],
      "metadata": {
        "id": "tt3lYWQdBcFx"
      },
      "execution_count": null,
      "outputs": []
    }
  ]
}