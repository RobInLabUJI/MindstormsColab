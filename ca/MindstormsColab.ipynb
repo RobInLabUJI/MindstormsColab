{
  "nbformat": 4,
  "nbformat_minor": 0,
  "metadata": {
    "colab": {
      "name": "MindstormsColab.ipynb",
      "provenance": [],
      "authorship_tag": "ABX9TyP7p3vlASO7EA+V0lStsXkS",
      "include_colab_link": true
    },
    "kernelspec": {
      "name": "python3",
      "display_name": "Python 3"
    },
    "language_info": {
      "name": "python"
    }
  },
  "cells": [
    {
      "cell_type": "markdown",
      "metadata": {
        "id": "view-in-github",
        "colab_type": "text"
      },
      "source": [
        "<a href=\"https://colab.research.google.com/github/RobInLabUJI/MindstormsColab/blob/main/ca/MindstormsColab.ipynb\" target=\"_parent\"><img src=\"https://colab.research.google.com/assets/colab-badge.svg\" alt=\"Open In Colab\"/></a>"
      ]
    },
    {
      "cell_type": "markdown",
      "source": [
        "# Mindstorms Colab\n",
        "\n",
        "Segons la Viquipèdia,\n",
        "\"[**Lego Mindstorms**](https://ca.wikipedia.org/wiki/Lego_Mindstorms) és una línia de jocs d'experimentació centrats en la robòtica, de la casa [Lego](https://ca.wikipedia.org/wiki/Lego). Però les seves possibilitats en fan una eina apreciable en entorns didàctics des de l'escola primària a la universitat\".\n",
        "\n",
        "En aquest taller aprendreu a programar un robot de Lego amb el [llenguatge de programació Python](https://ca.wikipedia.org/wiki/Python), un llenguatge de programació d'alt nivell i propòsit general molt utilitzat. Tingueu o no experiència en programar, no patiu: vos donarem exemples per a provar amb el robot, que poc a poc anirant fent-se més sofisticats.\n",
        "\n",
        "Programareu el robot per a moure's i reaccionar a l'entorn amb els seus sensors: detectar obstacles, seguir línies, ballar, fins i tot lluitar a sumo!\n",
        "\n",
        "Per començar, cliqueu a una de les imatges de baix, la que es correspon amb el controlador del vostre robot.\n",
        "\n",
        "### <p style=\"text-align: center;\"> Tria el model del teu robot:</p>\n",
        "\n",
        "<table>\n",
        "<tr>\n",
        "<td><a href=\"https://colab.research.google.com/github/RobInLabUJI/MindstormsColab/blob/main/ca/nxt/index.ipynb\"><img src=\"https://github.com/RobInLabUJI/MindstormsColab/raw/main/img/nxt.png\" width=300></a></td>\n",
        "<td><a href=\"https://colab.research.google.com/github/RobInLabUJI/MindstormsColab/blob/main/ca/ev3/index.ipynb\"><img src=\"https://github.com/RobInLabUJI/MindstormsColab/raw/main/img/ev3.jpg\" width=300></a></td>\n",
        "</tr>\n",
        "</table>"
      ],
      "metadata": {
        "id": "euwUuOGl8oxy"
      }
    }
  ]
}