{
  "nbformat": 4,
  "nbformat_minor": 0,
  "metadata": {
    "colab": {
      "name": "index.ipynb",
      "provenance": [],
      "authorship_tag": "ABX9TyO9HNn/WTlyvP9EHcGL1COi",
      "include_colab_link": true
    },
    "kernelspec": {
      "name": "python3",
      "display_name": "Python 3"
    },
    "language_info": {
      "name": "python"
    }
  },
  "cells": [
    {
      "cell_type": "markdown",
      "metadata": {
        "id": "view-in-github",
        "colab_type": "text"
      },
      "source": [
        "<a href=\"https://colab.research.google.com/github/RobInLabUJI/MindstormsColab/blob/main/ca/task/index.ipynb\" target=\"_parent\"><img src=\"https://colab.research.google.com/assets/colab-badge.svg\" alt=\"Open In Colab\"/></a>"
      ]
    },
    {
      "cell_type": "markdown",
      "source": [
        "# Prova de connexió\n",
        "\n",
        "Assegureu-vos de que el controlador del robot està en marxa, i proveu el següent codi, fent clic amb el ratolí, i polsant simultàniament les tecles *Majúscules* i *Enter*."
      ],
      "metadata": {
        "id": "E4olwmqJHiNC"
      }
    },
    {
      "cell_type": "code",
      "execution_count": null,
      "metadata": {
        "id": "_56sVpvgHgcs"
      },
      "outputs": [],
      "source": [
        "from task.functions import connect\n",
        "connect()  # Executeu, polsant Majúscules + Enter"
      ]
    },
    {
      "cell_type": "markdown",
      "source": [
        "Si apareix un missatge de confirmació, enhorabona, tot funciona. Si no, hi ha algun problema i haureu de cridar el professor de l'aula.\n",
        "\n",
        "Proveu ara unes ordres senzilles per al robot: moure el robot cap avant durant un segon, i parar."
      ],
      "metadata": {
        "id": "VEXMGrfDHmod"
      }
    },
    {
      "cell_type": "code",
      "source": [
        "from task.functions import forward, stop # cliqueu ací, i polseu Majúscules + Enter\n",
        "from time import sleep              # per a executar el bloc d'ordres\n",
        "forward()\n",
        "sleep(1)\n",
        "stop()"
      ],
      "metadata": {
        "id": "CG07ThiMHpJ9"
      },
      "execution_count": null,
      "outputs": []
    },
    {
      "cell_type": "markdown",
      "source": [
        "Tot correcte? Magnífic! Durant el taller voreu més ordres i aprendreu a combinar-les fent programes més complicats. Ara, abans de passar a la pàgina següent, heu de desconnectar el robot del programa d'esta pàgina (només pot haver una connexió simultània)."
      ],
      "metadata": {
        "id": "Zv9aUtmqHrTu"
      }
    },
    {
      "cell_type": "code",
      "source": [
        "from task.functions import disconnect, next_notebook\n",
        "disconnect()\n",
        "next_notebook('moviments')"
      ],
      "metadata": {
        "id": "wt6tfUb8HtM8"
      },
      "execution_count": null,
      "outputs": []
    }
  ]
}